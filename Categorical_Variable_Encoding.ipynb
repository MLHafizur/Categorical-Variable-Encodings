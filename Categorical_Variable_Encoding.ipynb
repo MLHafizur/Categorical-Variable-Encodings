{
  "nbformat": 4,
  "nbformat_minor": 0,
  "metadata": {
    "colab": {
      "name": "Categorical Variable Encoding.ipynb",
      "provenance": []
    },
    "kernelspec": {
      "name": "python3",
      "display_name": "Python 3"
    }
  },
  "cells": [
    {
      "cell_type": "markdown",
      "metadata": {
        "id": "JRla_YthOvOO",
        "colab_type": "text"
      },
      "source": [
        "# **One Hot Encoding with Sklearn**"
      ]
    },
    {
      "cell_type": "code",
      "metadata": {
        "id": "ZsaLZlscO4sN",
        "colab_type": "code",
        "colab": {}
      },
      "source": [
        "import pandas as pd \n",
        "from sklearn.model_selection import train_test_split"
      ],
      "execution_count": 0,
      "outputs": []
    },
    {
      "cell_type": "code",
      "metadata": {
        "id": "N_bJXMrGRb_N",
        "colab_type": "code",
        "colab": {}
      },
      "source": [
        "import numpy as np\n",
        " \n",
        "# load dataset from openML\n",
        "data = pd.read_csv('https://www.openml.org/data/get_csv/16826755/phpMYEkMl')\n",
        " \n",
        "# replace ? with np.nan\n",
        "data = data.replace('?', np.nan)\n",
        " \n",
        "# capture only first cabin when more than one is available\n",
        "def get_first_cabin(row):\n",
        "    try:\n",
        "        return row.split()[0]\n",
        "    except:\n",
        "        return np.nan\n",
        " \n",
        "data['cabin'] = data['cabin'].apply(get_first_cabin)\n",
        " \n",
        "# save to csv\n",
        "data.to_csv('titanic.csv', index=False)\n"
      ],
      "execution_count": 0,
      "outputs": []
    },
    {
      "cell_type": "code",
      "metadata": {
        "id": "qkyeFnulSAOL",
        "colab_type": "code",
        "outputId": "7a66142a-430c-4865-be65-f3fe9350ff31",
        "colab": {
          "base_uri": "https://localhost:8080/",
          "height": 204
        }
      },
      "source": [
        "data = data [['sex', 'embarked', 'cabin', 'survived']]\n",
        "data['cabin'] = data.cabin.str[0]\n",
        "\n",
        "data.head()"
      ],
      "execution_count": 3,
      "outputs": [
        {
          "output_type": "execute_result",
          "data": {
            "text/html": [
              "<div>\n",
              "<style scoped>\n",
              "    .dataframe tbody tr th:only-of-type {\n",
              "        vertical-align: middle;\n",
              "    }\n",
              "\n",
              "    .dataframe tbody tr th {\n",
              "        vertical-align: top;\n",
              "    }\n",
              "\n",
              "    .dataframe thead th {\n",
              "        text-align: right;\n",
              "    }\n",
              "</style>\n",
              "<table border=\"1\" class=\"dataframe\">\n",
              "  <thead>\n",
              "    <tr style=\"text-align: right;\">\n",
              "      <th></th>\n",
              "      <th>sex</th>\n",
              "      <th>embarked</th>\n",
              "      <th>cabin</th>\n",
              "      <th>survived</th>\n",
              "    </tr>\n",
              "  </thead>\n",
              "  <tbody>\n",
              "    <tr>\n",
              "      <th>0</th>\n",
              "      <td>female</td>\n",
              "      <td>S</td>\n",
              "      <td>B</td>\n",
              "      <td>1</td>\n",
              "    </tr>\n",
              "    <tr>\n",
              "      <th>1</th>\n",
              "      <td>male</td>\n",
              "      <td>S</td>\n",
              "      <td>C</td>\n",
              "      <td>1</td>\n",
              "    </tr>\n",
              "    <tr>\n",
              "      <th>2</th>\n",
              "      <td>female</td>\n",
              "      <td>S</td>\n",
              "      <td>C</td>\n",
              "      <td>0</td>\n",
              "    </tr>\n",
              "    <tr>\n",
              "      <th>3</th>\n",
              "      <td>male</td>\n",
              "      <td>S</td>\n",
              "      <td>C</td>\n",
              "      <td>0</td>\n",
              "    </tr>\n",
              "    <tr>\n",
              "      <th>4</th>\n",
              "      <td>female</td>\n",
              "      <td>S</td>\n",
              "      <td>C</td>\n",
              "      <td>0</td>\n",
              "    </tr>\n",
              "  </tbody>\n",
              "</table>\n",
              "</div>"
            ],
            "text/plain": [
              "      sex embarked cabin  survived\n",
              "0  female        S     B         1\n",
              "1    male        S     C         1\n",
              "2  female        S     C         0\n",
              "3    male        S     C         0\n",
              "4  female        S     C         0"
            ]
          },
          "metadata": {
            "tags": []
          },
          "execution_count": 3
        }
      ]
    },
    {
      "cell_type": "code",
      "metadata": {
        "id": "HIKWTd8dSolU",
        "colab_type": "code",
        "outputId": "397fdeeb-79f0-4123-9ff7-a521c968dabf",
        "colab": {
          "base_uri": "https://localhost:8080/",
          "height": 34
        }
      },
      "source": [
        "X_train, X_test, y_train, y_test = train_test_split(data [['sex', 'embarked', 'cabin']], data['survived'], test_size=0.3, random_state = 33)\n",
        "X_train.shape, X_test.shape, y_train.shape, y_test.shape"
      ],
      "execution_count": 4,
      "outputs": [
        {
          "output_type": "execute_result",
          "data": {
            "text/plain": [
              "((916, 3), (393, 3), (916,), (393,))"
            ]
          },
          "metadata": {
            "tags": []
          },
          "execution_count": 4
        }
      ]
    },
    {
      "cell_type": "code",
      "metadata": {
        "id": "S9uOXn23TWNl",
        "colab_type": "code",
        "outputId": "e949c611-5d95-47c5-95a1-3e1db1c8df2e",
        "colab": {
          "base_uri": "https://localhost:8080/",
          "height": 68
        }
      },
      "source": [
        "# Sex has 2 labels\n",
        "print(X_train.sex.unique())\n",
        "\n",
        "# Embarked has 3 labels\n",
        "print(X_train.embarked.unique())\n",
        "\n",
        "# Cabin has 3 labels\n",
        "print(X_train.cabin.unique())\n"
      ],
      "execution_count": 5,
      "outputs": [
        {
          "output_type": "stream",
          "text": [
            "['male' 'female']\n",
            "['S' 'C' 'Q' nan]\n",
            "[nan 'B' 'E' 'C' 'D' 'F' 'A' 'T' 'G']\n"
          ],
          "name": "stdout"
        }
      ]
    },
    {
      "cell_type": "code",
      "metadata": {
        "id": "CNQbKRAUUm9-",
        "colab_type": "code",
        "outputId": "ad5951d6-d2e5-4716-e8d5-5ed82e00597a",
        "colab": {
          "base_uri": "https://localhost:8080/",
          "height": 51
        }
      },
      "source": [
        "# OneHotEncoding with sklearn\n",
        "X_train = X_train.fillna('Missing')\n",
        "from sklearn.preprocessing import OneHotEncoder\n",
        "encoder = OneHotEncoder(categories = 'auto', \n",
        "                        drop = 'first',\n",
        "                        sparse = False,\n",
        "                        handle_unknown = 'error') # Helps deal with rare labels\n",
        "\n",
        "encoder.fit(X_train.fillna('missing'))"
      ],
      "execution_count": 6,
      "outputs": [
        {
          "output_type": "execute_result",
          "data": {
            "text/plain": [
              "OneHotEncoder(categories='auto', drop='first', dtype=<class 'numpy.float64'>,\n",
              "              handle_unknown='error', sparse=False)"
            ]
          },
          "metadata": {
            "tags": []
          },
          "execution_count": 6
        }
      ]
    },
    {
      "cell_type": "code",
      "metadata": {
        "id": "_vLVTacPouzr",
        "colab_type": "code",
        "colab": {
          "base_uri": "https://localhost:8080/",
          "height": 68
        },
        "outputId": "67af23f3-7651-4b21-8e86-68f040094999"
      },
      "source": [
        "# The learned categories\n",
        "encoder.categories_"
      ],
      "execution_count": 7,
      "outputs": [
        {
          "output_type": "execute_result",
          "data": {
            "text/plain": [
              "[array(['female', 'male'], dtype=object),\n",
              " array(['C', 'Missing', 'Q', 'S'], dtype=object),\n",
              " array(['A', 'B', 'C', 'D', 'E', 'F', 'G', 'Missing', 'T'], dtype=object)]"
            ]
          },
          "metadata": {
            "tags": []
          },
          "execution_count": 7
        }
      ]
    },
    {
      "cell_type": "code",
      "metadata": {
        "id": "40BUPfq8o3kY",
        "colab_type": "code",
        "colab": {
          "base_uri": "https://localhost:8080/",
          "height": 204
        },
        "outputId": "ad105f47-9af9-47e7-e76e-116016360c3b"
      },
      "source": [
        "# Transform the train set\n",
        "trns = encoder.transform(X_train)\n",
        "column_name = encoder.get_feature_names(['sex', 'embarked', 'cabin'])\n",
        "\n",
        "pd.DataFrame(trns, columns = column_name).head()\n"
      ],
      "execution_count": 8,
      "outputs": [
        {
          "output_type": "execute_result",
          "data": {
            "text/html": [
              "<div>\n",
              "<style scoped>\n",
              "    .dataframe tbody tr th:only-of-type {\n",
              "        vertical-align: middle;\n",
              "    }\n",
              "\n",
              "    .dataframe tbody tr th {\n",
              "        vertical-align: top;\n",
              "    }\n",
              "\n",
              "    .dataframe thead th {\n",
              "        text-align: right;\n",
              "    }\n",
              "</style>\n",
              "<table border=\"1\" class=\"dataframe\">\n",
              "  <thead>\n",
              "    <tr style=\"text-align: right;\">\n",
              "      <th></th>\n",
              "      <th>sex_male</th>\n",
              "      <th>embarked_Missing</th>\n",
              "      <th>embarked_Q</th>\n",
              "      <th>embarked_S</th>\n",
              "      <th>cabin_B</th>\n",
              "      <th>cabin_C</th>\n",
              "      <th>cabin_D</th>\n",
              "      <th>cabin_E</th>\n",
              "      <th>cabin_F</th>\n",
              "      <th>cabin_G</th>\n",
              "      <th>cabin_Missing</th>\n",
              "      <th>cabin_T</th>\n",
              "    </tr>\n",
              "  </thead>\n",
              "  <tbody>\n",
              "    <tr>\n",
              "      <th>0</th>\n",
              "      <td>1.0</td>\n",
              "      <td>0.0</td>\n",
              "      <td>0.0</td>\n",
              "      <td>1.0</td>\n",
              "      <td>0.0</td>\n",
              "      <td>0.0</td>\n",
              "      <td>0.0</td>\n",
              "      <td>0.0</td>\n",
              "      <td>0.0</td>\n",
              "      <td>0.0</td>\n",
              "      <td>1.0</td>\n",
              "      <td>0.0</td>\n",
              "    </tr>\n",
              "    <tr>\n",
              "      <th>1</th>\n",
              "      <td>1.0</td>\n",
              "      <td>0.0</td>\n",
              "      <td>0.0</td>\n",
              "      <td>0.0</td>\n",
              "      <td>0.0</td>\n",
              "      <td>0.0</td>\n",
              "      <td>0.0</td>\n",
              "      <td>0.0</td>\n",
              "      <td>0.0</td>\n",
              "      <td>0.0</td>\n",
              "      <td>1.0</td>\n",
              "      <td>0.0</td>\n",
              "    </tr>\n",
              "    <tr>\n",
              "      <th>2</th>\n",
              "      <td>1.0</td>\n",
              "      <td>0.0</td>\n",
              "      <td>0.0</td>\n",
              "      <td>1.0</td>\n",
              "      <td>0.0</td>\n",
              "      <td>0.0</td>\n",
              "      <td>0.0</td>\n",
              "      <td>0.0</td>\n",
              "      <td>0.0</td>\n",
              "      <td>0.0</td>\n",
              "      <td>1.0</td>\n",
              "      <td>0.0</td>\n",
              "    </tr>\n",
              "    <tr>\n",
              "      <th>3</th>\n",
              "      <td>0.0</td>\n",
              "      <td>0.0</td>\n",
              "      <td>1.0</td>\n",
              "      <td>0.0</td>\n",
              "      <td>0.0</td>\n",
              "      <td>0.0</td>\n",
              "      <td>0.0</td>\n",
              "      <td>0.0</td>\n",
              "      <td>0.0</td>\n",
              "      <td>0.0</td>\n",
              "      <td>1.0</td>\n",
              "      <td>0.0</td>\n",
              "    </tr>\n",
              "    <tr>\n",
              "      <th>4</th>\n",
              "      <td>1.0</td>\n",
              "      <td>0.0</td>\n",
              "      <td>0.0</td>\n",
              "      <td>1.0</td>\n",
              "      <td>1.0</td>\n",
              "      <td>0.0</td>\n",
              "      <td>0.0</td>\n",
              "      <td>0.0</td>\n",
              "      <td>0.0</td>\n",
              "      <td>0.0</td>\n",
              "      <td>0.0</td>\n",
              "      <td>0.0</td>\n",
              "    </tr>\n",
              "  </tbody>\n",
              "</table>\n",
              "</div>"
            ],
            "text/plain": [
              "   sex_male  embarked_Missing  embarked_Q  ...  cabin_G  cabin_Missing  cabin_T\n",
              "0       1.0               0.0         0.0  ...      0.0            1.0      0.0\n",
              "1       1.0               0.0         0.0  ...      0.0            1.0      0.0\n",
              "2       1.0               0.0         0.0  ...      0.0            1.0      0.0\n",
              "3       0.0               0.0         1.0  ...      0.0            1.0      0.0\n",
              "4       1.0               0.0         0.0  ...      0.0            0.0      0.0\n",
              "\n",
              "[5 rows x 12 columns]"
            ]
          },
          "metadata": {
            "tags": []
          },
          "execution_count": 8
        }
      ]
    },
    {
      "cell_type": "code",
      "metadata": {
        "id": "jUxhsXFisyLt",
        "colab_type": "code",
        "colab": {
          "base_uri": "https://localhost:8080/",
          "height": 204
        },
        "outputId": "04ee918b-589c-45a3-90bc-27f63a886e4a"
      },
      "source": [
        "# Transform test set\n",
        "X_test = X_test.fillna('Missing')\n",
        "trns_test = encoder.transform(X_test)\n",
        "pd.DataFrame(trns_test, columns=column_name).head()"
      ],
      "execution_count": 9,
      "outputs": [
        {
          "output_type": "execute_result",
          "data": {
            "text/html": [
              "<div>\n",
              "<style scoped>\n",
              "    .dataframe tbody tr th:only-of-type {\n",
              "        vertical-align: middle;\n",
              "    }\n",
              "\n",
              "    .dataframe tbody tr th {\n",
              "        vertical-align: top;\n",
              "    }\n",
              "\n",
              "    .dataframe thead th {\n",
              "        text-align: right;\n",
              "    }\n",
              "</style>\n",
              "<table border=\"1\" class=\"dataframe\">\n",
              "  <thead>\n",
              "    <tr style=\"text-align: right;\">\n",
              "      <th></th>\n",
              "      <th>sex_male</th>\n",
              "      <th>embarked_Missing</th>\n",
              "      <th>embarked_Q</th>\n",
              "      <th>embarked_S</th>\n",
              "      <th>cabin_B</th>\n",
              "      <th>cabin_C</th>\n",
              "      <th>cabin_D</th>\n",
              "      <th>cabin_E</th>\n",
              "      <th>cabin_F</th>\n",
              "      <th>cabin_G</th>\n",
              "      <th>cabin_Missing</th>\n",
              "      <th>cabin_T</th>\n",
              "    </tr>\n",
              "  </thead>\n",
              "  <tbody>\n",
              "    <tr>\n",
              "      <th>0</th>\n",
              "      <td>1.0</td>\n",
              "      <td>0.0</td>\n",
              "      <td>0.0</td>\n",
              "      <td>1.0</td>\n",
              "      <td>0.0</td>\n",
              "      <td>0.0</td>\n",
              "      <td>0.0</td>\n",
              "      <td>0.0</td>\n",
              "      <td>0.0</td>\n",
              "      <td>0.0</td>\n",
              "      <td>1.0</td>\n",
              "      <td>0.0</td>\n",
              "    </tr>\n",
              "    <tr>\n",
              "      <th>1</th>\n",
              "      <td>1.0</td>\n",
              "      <td>0.0</td>\n",
              "      <td>0.0</td>\n",
              "      <td>1.0</td>\n",
              "      <td>1.0</td>\n",
              "      <td>0.0</td>\n",
              "      <td>0.0</td>\n",
              "      <td>0.0</td>\n",
              "      <td>0.0</td>\n",
              "      <td>0.0</td>\n",
              "      <td>0.0</td>\n",
              "      <td>0.0</td>\n",
              "    </tr>\n",
              "    <tr>\n",
              "      <th>2</th>\n",
              "      <td>1.0</td>\n",
              "      <td>0.0</td>\n",
              "      <td>0.0</td>\n",
              "      <td>0.0</td>\n",
              "      <td>1.0</td>\n",
              "      <td>0.0</td>\n",
              "      <td>0.0</td>\n",
              "      <td>0.0</td>\n",
              "      <td>0.0</td>\n",
              "      <td>0.0</td>\n",
              "      <td>0.0</td>\n",
              "      <td>0.0</td>\n",
              "    </tr>\n",
              "    <tr>\n",
              "      <th>3</th>\n",
              "      <td>1.0</td>\n",
              "      <td>0.0</td>\n",
              "      <td>1.0</td>\n",
              "      <td>0.0</td>\n",
              "      <td>0.0</td>\n",
              "      <td>0.0</td>\n",
              "      <td>0.0</td>\n",
              "      <td>0.0</td>\n",
              "      <td>0.0</td>\n",
              "      <td>0.0</td>\n",
              "      <td>1.0</td>\n",
              "      <td>0.0</td>\n",
              "    </tr>\n",
              "    <tr>\n",
              "      <th>4</th>\n",
              "      <td>1.0</td>\n",
              "      <td>0.0</td>\n",
              "      <td>0.0</td>\n",
              "      <td>1.0</td>\n",
              "      <td>0.0</td>\n",
              "      <td>0.0</td>\n",
              "      <td>0.0</td>\n",
              "      <td>0.0</td>\n",
              "      <td>0.0</td>\n",
              "      <td>0.0</td>\n",
              "      <td>1.0</td>\n",
              "      <td>0.0</td>\n",
              "    </tr>\n",
              "  </tbody>\n",
              "</table>\n",
              "</div>"
            ],
            "text/plain": [
              "   sex_male  embarked_Missing  embarked_Q  ...  cabin_G  cabin_Missing  cabin_T\n",
              "0       1.0               0.0         0.0  ...      0.0            1.0      0.0\n",
              "1       1.0               0.0         0.0  ...      0.0            0.0      0.0\n",
              "2       1.0               0.0         0.0  ...      0.0            0.0      0.0\n",
              "3       1.0               0.0         1.0  ...      0.0            1.0      0.0\n",
              "4       1.0               0.0         0.0  ...      0.0            1.0      0.0\n",
              "\n",
              "[5 rows x 12 columns]"
            ]
          },
          "metadata": {
            "tags": []
          },
          "execution_count": 9
        }
      ]
    },
    {
      "cell_type": "markdown",
      "metadata": {
        "id": "qjwjNwFL3ypv",
        "colab_type": "text"
      },
      "source": [
        "# **One Hot Encoding-Frequent Categories**\n"
      ]
    },
    {
      "cell_type": "code",
      "metadata": {
        "id": "ZXP2HNm05Ut7",
        "colab_type": "code",
        "colab": {
          "base_uri": "https://localhost:8080/",
          "height": 204
        },
        "outputId": "5de66554-4592-4e59-8b3c-1aea886d6ad8"
      },
      "source": [
        "# Import data\n",
        "house = pd.read_csv('/content/train.csv', usecols = ['Neighborhood', 'Exterior1st', 'Exterior2nd', 'SalePrice'])\n",
        "house.head()"
      ],
      "execution_count": 10,
      "outputs": [
        {
          "output_type": "execute_result",
          "data": {
            "text/html": [
              "<div>\n",
              "<style scoped>\n",
              "    .dataframe tbody tr th:only-of-type {\n",
              "        vertical-align: middle;\n",
              "    }\n",
              "\n",
              "    .dataframe tbody tr th {\n",
              "        vertical-align: top;\n",
              "    }\n",
              "\n",
              "    .dataframe thead th {\n",
              "        text-align: right;\n",
              "    }\n",
              "</style>\n",
              "<table border=\"1\" class=\"dataframe\">\n",
              "  <thead>\n",
              "    <tr style=\"text-align: right;\">\n",
              "      <th></th>\n",
              "      <th>Neighborhood</th>\n",
              "      <th>Exterior1st</th>\n",
              "      <th>Exterior2nd</th>\n",
              "      <th>SalePrice</th>\n",
              "    </tr>\n",
              "  </thead>\n",
              "  <tbody>\n",
              "    <tr>\n",
              "      <th>0</th>\n",
              "      <td>CollgCr</td>\n",
              "      <td>VinylSd</td>\n",
              "      <td>VinylSd</td>\n",
              "      <td>208500</td>\n",
              "    </tr>\n",
              "    <tr>\n",
              "      <th>1</th>\n",
              "      <td>Veenker</td>\n",
              "      <td>MetalSd</td>\n",
              "      <td>MetalSd</td>\n",
              "      <td>181500</td>\n",
              "    </tr>\n",
              "    <tr>\n",
              "      <th>2</th>\n",
              "      <td>CollgCr</td>\n",
              "      <td>VinylSd</td>\n",
              "      <td>VinylSd</td>\n",
              "      <td>223500</td>\n",
              "    </tr>\n",
              "    <tr>\n",
              "      <th>3</th>\n",
              "      <td>Crawfor</td>\n",
              "      <td>Wd Sdng</td>\n",
              "      <td>Wd Shng</td>\n",
              "      <td>140000</td>\n",
              "    </tr>\n",
              "    <tr>\n",
              "      <th>4</th>\n",
              "      <td>NoRidge</td>\n",
              "      <td>VinylSd</td>\n",
              "      <td>VinylSd</td>\n",
              "      <td>250000</td>\n",
              "    </tr>\n",
              "  </tbody>\n",
              "</table>\n",
              "</div>"
            ],
            "text/plain": [
              "  Neighborhood Exterior1st Exterior2nd  SalePrice\n",
              "0      CollgCr     VinylSd     VinylSd     208500\n",
              "1      Veenker     MetalSd     MetalSd     181500\n",
              "2      CollgCr     VinylSd     VinylSd     223500\n",
              "3      Crawfor     Wd Sdng     Wd Shng     140000\n",
              "4      NoRidge     VinylSd     VinylSd     250000"
            ]
          },
          "metadata": {
            "tags": []
          },
          "execution_count": 10
        }
      ]
    },
    {
      "cell_type": "code",
      "metadata": {
        "id": "Di6aDO1T7EFq",
        "colab_type": "code",
        "colab": {
          "base_uri": "https://localhost:8080/",
          "height": 85
        },
        "outputId": "95244148-6347-4f88-ec4c-f1a5e917f487"
      },
      "source": [
        "# Take a look on the number of labels of each features\n",
        "for col in house.columns:\n",
        "  print(col, ': ', house[col].nunique(), ' labels')"
      ],
      "execution_count": 11,
      "outputs": [
        {
          "output_type": "stream",
          "text": [
            "Neighborhood :  25  labels\n",
            "Exterior1st :  15  labels\n",
            "Exterior2nd :  16  labels\n",
            "SalePrice :  663  labels\n"
          ],
          "name": "stdout"
        }
      ]
    },
    {
      "cell_type": "code",
      "metadata": {
        "id": "NO8U6cCZ8XxF",
        "colab_type": "code",
        "colab": {
          "base_uri": "https://localhost:8080/",
          "height": 34
        },
        "outputId": "74448bb0-a54a-4988-898b-2b5cc170914f"
      },
      "source": [
        "X_train, X_test, y_train, y_test = train_test_split(house[['Neighborhood', 'Exterior1st', 'Exterior2nd']], house['SalePrice'], test_size=0.3, random_state = 33)\n",
        "X_train.shape, X_test.shape, y_train.shape, y_test.shape"
      ],
      "execution_count": 12,
      "outputs": [
        {
          "output_type": "execute_result",
          "data": {
            "text/plain": [
              "((1022, 3), (438, 3), (1022,), (438,))"
            ]
          },
          "metadata": {
            "tags": []
          },
          "execution_count": 12
        }
      ]
    },
    {
      "cell_type": "code",
      "metadata": {
        "id": "lEf_z8Rg9a1s",
        "colab_type": "code",
        "colab": {
          "base_uri": "https://localhost:8080/",
          "height": 204
        },
        "outputId": "f82b5a78-21e1-42d5-ffd8-9118097ff6a1"
      },
      "source": [
        "# Top 10 frequent categories of Neighborhood.\n",
        "X_train['Neighborhood'].value_counts().sort_values(ascending = False).head(10)"
      ],
      "execution_count": 13,
      "outputs": [
        {
          "output_type": "execute_result",
          "data": {
            "text/plain": [
              "NAmes      157\n",
              "CollgCr    103\n",
              "OldTown     78\n",
              "Edwards     76\n",
              "Somerst     66\n",
              "Gilbert     61\n",
              "Sawyer      55\n",
              "NridgHt     50\n",
              "NWAmes      49\n",
              "BrkSide     41\n",
              "Name: Neighborhood, dtype: int64"
            ]
          },
          "metadata": {
            "tags": []
          },
          "execution_count": 13
        }
      ]
    },
    {
      "cell_type": "code",
      "metadata": {
        "id": "8ZevKlHC8lve",
        "colab_type": "code",
        "colab": {
          "base_uri": "https://localhost:8080/",
          "height": 68
        },
        "outputId": "0b5fb775-faed-45c9-f44b-75b2ba2e8707"
      },
      "source": [
        "from feature_engine.categorical_encoders import OneHotCategoricalEncoder\n",
        "encod = OneHotCategoricalEncoder(top_categories = 10, \n",
        "                                 variables = ['Neighborhood', 'Exterior1st', 'Exterior2nd'], # Variables we want to encode\n",
        "                                 drop_last = False)\n",
        "encod.fit(X_train)"
      ],
      "execution_count": 15,
      "outputs": [
        {
          "output_type": "execute_result",
          "data": {
            "text/plain": [
              "OneHotCategoricalEncoder(drop_last=False, top_categories=10,\n",
              "                         variables=['Neighborhood', 'Exterior1st',\n",
              "                                    'Exterior2nd'])"
            ]
          },
          "metadata": {
            "tags": []
          },
          "execution_count": 15
        }
      ]
    },
    {
      "cell_type": "code",
      "metadata": {
        "id": "b9MiLCxf-e03",
        "colab_type": "code",
        "colab": {
          "base_uri": "https://localhost:8080/",
          "height": 527
        },
        "outputId": "13151ff7-3628-457a-b168-2557b3a0c5c6"
      },
      "source": [
        "# Take a look on the selected top categories\n",
        "encod.encoder_dict_"
      ],
      "execution_count": 16,
      "outputs": [
        {
          "output_type": "execute_result",
          "data": {
            "text/plain": [
              "{'Exterior1st': ['VinylSd',\n",
              "  'MetalSd',\n",
              "  'HdBoard',\n",
              "  'Wd Sdng',\n",
              "  'Plywood',\n",
              "  'CemntBd',\n",
              "  'BrkFace',\n",
              "  'Stucco',\n",
              "  'WdShing',\n",
              "  'AsbShng'],\n",
              " 'Exterior2nd': ['VinylSd',\n",
              "  'MetalSd',\n",
              "  'HdBoard',\n",
              "  'Wd Sdng',\n",
              "  'Plywood',\n",
              "  'CmentBd',\n",
              "  'Wd Shng',\n",
              "  'BrkFace',\n",
              "  'Stucco',\n",
              "  'AsbShng'],\n",
              " 'Neighborhood': ['NAmes',\n",
              "  'CollgCr',\n",
              "  'OldTown',\n",
              "  'Edwards',\n",
              "  'Somerst',\n",
              "  'Gilbert',\n",
              "  'Sawyer',\n",
              "  'NridgHt',\n",
              "  'NWAmes',\n",
              "  'BrkSide']}"
            ]
          },
          "metadata": {
            "tags": []
          },
          "execution_count": 16
        }
      ]
    },
    {
      "cell_type": "code",
      "metadata": {
        "id": "HhHYGBk_-qw3",
        "colab_type": "code",
        "colab": {
          "base_uri": "https://localhost:8080/",
          "height": 241
        },
        "outputId": "24780013-037b-4325-9009-10ecaa4491fa"
      },
      "source": [
        "# Trasform Train and Test sets\n",
        "X_train = encod.transform(X_train)\n",
        "X_test = encod.transform(X_test)\n",
        "\n",
        "# Train set after transform\n",
        "X_train.head()"
      ],
      "execution_count": 17,
      "outputs": [
        {
          "output_type": "execute_result",
          "data": {
            "text/html": [
              "<div>\n",
              "<style scoped>\n",
              "    .dataframe tbody tr th:only-of-type {\n",
              "        vertical-align: middle;\n",
              "    }\n",
              "\n",
              "    .dataframe tbody tr th {\n",
              "        vertical-align: top;\n",
              "    }\n",
              "\n",
              "    .dataframe thead th {\n",
              "        text-align: right;\n",
              "    }\n",
              "</style>\n",
              "<table border=\"1\" class=\"dataframe\">\n",
              "  <thead>\n",
              "    <tr style=\"text-align: right;\">\n",
              "      <th></th>\n",
              "      <th>Neighborhood_NAmes</th>\n",
              "      <th>Neighborhood_CollgCr</th>\n",
              "      <th>Neighborhood_OldTown</th>\n",
              "      <th>Neighborhood_Edwards</th>\n",
              "      <th>Neighborhood_Somerst</th>\n",
              "      <th>Neighborhood_Gilbert</th>\n",
              "      <th>Neighborhood_Sawyer</th>\n",
              "      <th>Neighborhood_NridgHt</th>\n",
              "      <th>Neighborhood_NWAmes</th>\n",
              "      <th>Neighborhood_BrkSide</th>\n",
              "      <th>Exterior1st_VinylSd</th>\n",
              "      <th>Exterior1st_MetalSd</th>\n",
              "      <th>Exterior1st_HdBoard</th>\n",
              "      <th>Exterior1st_Wd Sdng</th>\n",
              "      <th>Exterior1st_Plywood</th>\n",
              "      <th>Exterior1st_CemntBd</th>\n",
              "      <th>Exterior1st_BrkFace</th>\n",
              "      <th>Exterior1st_Stucco</th>\n",
              "      <th>Exterior1st_WdShing</th>\n",
              "      <th>Exterior1st_AsbShng</th>\n",
              "      <th>Exterior2nd_VinylSd</th>\n",
              "      <th>Exterior2nd_MetalSd</th>\n",
              "      <th>Exterior2nd_HdBoard</th>\n",
              "      <th>Exterior2nd_Wd Sdng</th>\n",
              "      <th>Exterior2nd_Plywood</th>\n",
              "      <th>Exterior2nd_CmentBd</th>\n",
              "      <th>Exterior2nd_Wd Shng</th>\n",
              "      <th>Exterior2nd_BrkFace</th>\n",
              "      <th>Exterior2nd_Stucco</th>\n",
              "      <th>Exterior2nd_AsbShng</th>\n",
              "    </tr>\n",
              "  </thead>\n",
              "  <tbody>\n",
              "    <tr>\n",
              "      <th>355</th>\n",
              "      <td>0</td>\n",
              "      <td>1</td>\n",
              "      <td>0</td>\n",
              "      <td>0</td>\n",
              "      <td>0</td>\n",
              "      <td>0</td>\n",
              "      <td>0</td>\n",
              "      <td>0</td>\n",
              "      <td>0</td>\n",
              "      <td>0</td>\n",
              "      <td>1</td>\n",
              "      <td>0</td>\n",
              "      <td>0</td>\n",
              "      <td>0</td>\n",
              "      <td>0</td>\n",
              "      <td>0</td>\n",
              "      <td>0</td>\n",
              "      <td>0</td>\n",
              "      <td>0</td>\n",
              "      <td>0</td>\n",
              "      <td>1</td>\n",
              "      <td>0</td>\n",
              "      <td>0</td>\n",
              "      <td>0</td>\n",
              "      <td>0</td>\n",
              "      <td>0</td>\n",
              "      <td>0</td>\n",
              "      <td>0</td>\n",
              "      <td>0</td>\n",
              "      <td>0</td>\n",
              "    </tr>\n",
              "    <tr>\n",
              "      <th>115</th>\n",
              "      <td>0</td>\n",
              "      <td>0</td>\n",
              "      <td>0</td>\n",
              "      <td>0</td>\n",
              "      <td>1</td>\n",
              "      <td>0</td>\n",
              "      <td>0</td>\n",
              "      <td>0</td>\n",
              "      <td>0</td>\n",
              "      <td>0</td>\n",
              "      <td>0</td>\n",
              "      <td>1</td>\n",
              "      <td>0</td>\n",
              "      <td>0</td>\n",
              "      <td>0</td>\n",
              "      <td>0</td>\n",
              "      <td>0</td>\n",
              "      <td>0</td>\n",
              "      <td>0</td>\n",
              "      <td>0</td>\n",
              "      <td>0</td>\n",
              "      <td>1</td>\n",
              "      <td>0</td>\n",
              "      <td>0</td>\n",
              "      <td>0</td>\n",
              "      <td>0</td>\n",
              "      <td>0</td>\n",
              "      <td>0</td>\n",
              "      <td>0</td>\n",
              "      <td>0</td>\n",
              "    </tr>\n",
              "    <tr>\n",
              "      <th>862</th>\n",
              "      <td>0</td>\n",
              "      <td>0</td>\n",
              "      <td>0</td>\n",
              "      <td>0</td>\n",
              "      <td>0</td>\n",
              "      <td>0</td>\n",
              "      <td>0</td>\n",
              "      <td>0</td>\n",
              "      <td>0</td>\n",
              "      <td>0</td>\n",
              "      <td>0</td>\n",
              "      <td>0</td>\n",
              "      <td>1</td>\n",
              "      <td>0</td>\n",
              "      <td>0</td>\n",
              "      <td>0</td>\n",
              "      <td>0</td>\n",
              "      <td>0</td>\n",
              "      <td>0</td>\n",
              "      <td>0</td>\n",
              "      <td>0</td>\n",
              "      <td>0</td>\n",
              "      <td>0</td>\n",
              "      <td>0</td>\n",
              "      <td>1</td>\n",
              "      <td>0</td>\n",
              "      <td>0</td>\n",
              "      <td>0</td>\n",
              "      <td>0</td>\n",
              "      <td>0</td>\n",
              "    </tr>\n",
              "    <tr>\n",
              "      <th>1409</th>\n",
              "      <td>0</td>\n",
              "      <td>0</td>\n",
              "      <td>0</td>\n",
              "      <td>0</td>\n",
              "      <td>0</td>\n",
              "      <td>0</td>\n",
              "      <td>0</td>\n",
              "      <td>0</td>\n",
              "      <td>1</td>\n",
              "      <td>0</td>\n",
              "      <td>0</td>\n",
              "      <td>0</td>\n",
              "      <td>0</td>\n",
              "      <td>0</td>\n",
              "      <td>1</td>\n",
              "      <td>0</td>\n",
              "      <td>0</td>\n",
              "      <td>0</td>\n",
              "      <td>0</td>\n",
              "      <td>0</td>\n",
              "      <td>0</td>\n",
              "      <td>0</td>\n",
              "      <td>0</td>\n",
              "      <td>0</td>\n",
              "      <td>1</td>\n",
              "      <td>0</td>\n",
              "      <td>0</td>\n",
              "      <td>0</td>\n",
              "      <td>0</td>\n",
              "      <td>0</td>\n",
              "    </tr>\n",
              "    <tr>\n",
              "      <th>999</th>\n",
              "      <td>0</td>\n",
              "      <td>1</td>\n",
              "      <td>0</td>\n",
              "      <td>0</td>\n",
              "      <td>0</td>\n",
              "      <td>0</td>\n",
              "      <td>0</td>\n",
              "      <td>0</td>\n",
              "      <td>0</td>\n",
              "      <td>0</td>\n",
              "      <td>1</td>\n",
              "      <td>0</td>\n",
              "      <td>0</td>\n",
              "      <td>0</td>\n",
              "      <td>0</td>\n",
              "      <td>0</td>\n",
              "      <td>0</td>\n",
              "      <td>0</td>\n",
              "      <td>0</td>\n",
              "      <td>0</td>\n",
              "      <td>1</td>\n",
              "      <td>0</td>\n",
              "      <td>0</td>\n",
              "      <td>0</td>\n",
              "      <td>0</td>\n",
              "      <td>0</td>\n",
              "      <td>0</td>\n",
              "      <td>0</td>\n",
              "      <td>0</td>\n",
              "      <td>0</td>\n",
              "    </tr>\n",
              "  </tbody>\n",
              "</table>\n",
              "</div>"
            ],
            "text/plain": [
              "      Neighborhood_NAmes  ...  Exterior2nd_AsbShng\n",
              "355                    0  ...                    0\n",
              "115                    0  ...                    0\n",
              "862                    0  ...                    0\n",
              "1409                   0  ...                    0\n",
              "999                    0  ...                    0\n",
              "\n",
              "[5 rows x 30 columns]"
            ]
          },
          "metadata": {
            "tags": []
          },
          "execution_count": 17
        }
      ]
    },
    {
      "cell_type": "markdown",
      "metadata": {
        "id": "SC-GpZ7C_SRE",
        "colab_type": "text"
      },
      "source": [
        "# **Integer Encoder**\n",
        "We will use HousePrice data set."
      ]
    },
    {
      "cell_type": "code",
      "metadata": {
        "id": "oN-y0-7e_odl",
        "colab_type": "code",
        "colab": {
          "base_uri": "https://localhost:8080/",
          "height": 34
        },
        "outputId": "3416eb15-bb6a-4fa0-8829-9ae6ea9e09ea"
      },
      "source": [
        "X_train1, X_test1, y_train1, y_test1 = train_test_split(house[['Neighborhood', 'Exterior1st', 'Exterior2nd']], house['SalePrice'], test_size=0.3, random_state = 33)\n",
        "X_train1.shape, X_test1.shape, y_train1.shape, y_test1.shape"
      ],
      "execution_count": 33,
      "outputs": [
        {
          "output_type": "execute_result",
          "data": {
            "text/plain": [
              "((1022, 3), (438, 3), (1022,), (438,))"
            ]
          },
          "metadata": {
            "tags": []
          },
          "execution_count": 33
        }
      ]
    },
    {
      "cell_type": "code",
      "metadata": {
        "id": "Tfhw0JeO_8xa",
        "colab_type": "code",
        "colab": {
          "base_uri": "https://localhost:8080/",
          "height": 34
        },
        "outputId": "aca98134-0da7-4711-f8c8-03dd9aad48aa"
      },
      "source": [
        "# Lets create an encoder with sklearn.\n",
        "from sklearn.preprocessing import LabelEncoder\n",
        "le = LabelEncoder()\n",
        "le.fit(X_train1.Neighborhood)"
      ],
      "execution_count": 19,
      "outputs": [
        {
          "output_type": "execute_result",
          "data": {
            "text/plain": [
              "LabelEncoder()"
            ]
          },
          "metadata": {
            "tags": []
          },
          "execution_count": 19
        }
      ]
    },
    {
      "cell_type": "code",
      "metadata": {
        "id": "M8gQpNhwAoNu",
        "colab_type": "code",
        "colab": {
          "base_uri": "https://localhost:8080/",
          "height": 102
        },
        "outputId": "ea733e27-a471-4d6f-ebb4-b1d0fe00bb1c"
      },
      "source": [
        "# Unique Classes\n",
        "le.classes_"
      ],
      "execution_count": 20,
      "outputs": [
        {
          "output_type": "execute_result",
          "data": {
            "text/plain": [
              "array(['Blmngtn', 'Blueste', 'BrDale', 'BrkSide', 'ClearCr', 'CollgCr',\n",
              "       'Crawfor', 'Edwards', 'Gilbert', 'IDOTRR', 'MeadowV', 'Mitchel',\n",
              "       'NAmes', 'NPkVill', 'NWAmes', 'NoRidge', 'NridgHt', 'OldTown',\n",
              "       'SWISU', 'Sawyer', 'SawyerW', 'Somerst', 'StoneBr', 'Timber',\n",
              "       'Veenker'], dtype=object)"
            ]
          },
          "metadata": {
            "tags": []
          },
          "execution_count": 20
        }
      ]
    },
    {
      "cell_type": "code",
      "metadata": {
        "id": "3_qrBUKvAuez",
        "colab_type": "code",
        "colab": {
          "base_uri": "https://localhost:8080/",
          "height": 221
        },
        "outputId": "2dfc6f41-7f4f-4a0f-ccb0-3d1dbf901993"
      },
      "source": [
        "from collections import defaultdict\n",
        "d = defaultdict(LabelEncoder)\n",
        "train_transformed = X_train1.apply(lambda x: d[x.name].fit_transform(x))\n",
        "test_transformed = X_test1.apply(lambda x: d[x.name].fit_transform(x))\n",
        "print(train_transformed.head())\n",
        "print(test_transformed.head())"
      ],
      "execution_count": 27,
      "outputs": [
        {
          "output_type": "stream",
          "text": [
            "      Neighborhood  Exterior1st  Exterior2nd\n",
            "355              5           10           13\n",
            "115             21            7            8\n",
            "862             20            6           10\n",
            "1409            14            8           10\n",
            "999              5           10           13\n",
            "      Neighborhood  Exterior1st  Exterior2nd\n",
            "753             16           10           10\n",
            "445              7           11           11\n",
            "1149            17           10           10\n",
            "1300             8           10           10\n",
            "1369             5           10           10\n"
          ],
          "name": "stdout"
        }
      ]
    },
    {
      "cell_type": "markdown",
      "metadata": {
        "id": "oE0ASCD4rgUX",
        "colab_type": "text"
      },
      "source": [
        "Let's do the same thing with Feature_Engine:"
      ]
    },
    {
      "cell_type": "code",
      "metadata": {
        "id": "y8RHzp2Krxgz",
        "colab_type": "code",
        "colab": {
          "base_uri": "https://localhost:8080/",
          "height": 68
        },
        "outputId": "8ba1cf09-2a97-42bd-9ec1-2b18f6b044d9"
      },
      "source": [
        "from feature_engine.categorical_encoders import OrdinalCategoricalEncoder\n",
        "ordinal_enc = OrdinalCategoricalEncoder(encoding_method = 'arbitrary',\n",
        "                                        variables = ['Neighborhood', 'Exterior1st', 'Exterior2nd'])\n",
        "ordinal_enc.fit(X_train1)"
      ],
      "execution_count": 34,
      "outputs": [
        {
          "output_type": "execute_result",
          "data": {
            "text/plain": [
              "OrdinalCategoricalEncoder(encoding_method='arbitrary',\n",
              "                          variables=['Neighborhood', 'Exterior1st',\n",
              "                                     'Exterior2nd'])"
            ]
          },
          "metadata": {
            "tags": []
          },
          "execution_count": 34
        }
      ]
    },
    {
      "cell_type": "code",
      "metadata": {
        "id": "QDaz0LNRs18O",
        "colab_type": "code",
        "colab": {
          "base_uri": "https://localhost:8080/",
          "height": 935
        },
        "outputId": "e0449bd1-b7dc-4586-a01f-a63d80852e1d"
      },
      "source": [
        "ordinal_enc.encoder_dict_"
      ],
      "execution_count": 37,
      "outputs": [
        {
          "output_type": "execute_result",
          "data": {
            "text/plain": [
              "{'Exterior1st': {'AsbShng': 9,\n",
              "  'AsphShn': 10,\n",
              "  'BrkComm': 12,\n",
              "  'BrkFace': 5,\n",
              "  'CBlock': 11,\n",
              "  'CemntBd': 7,\n",
              "  'HdBoard': 2,\n",
              "  'MetalSd': 1,\n",
              "  'Plywood': 3,\n",
              "  'Stucco': 8,\n",
              "  'VinylSd': 0,\n",
              "  'Wd Sdng': 4,\n",
              "  'WdShing': 6},\n",
              " 'Exterior2nd': {'AsbShng': 10,\n",
              "  'AsphShn': 12,\n",
              "  'Brk Cmn': 11,\n",
              "  'BrkFace': 5,\n",
              "  'CBlock': 14,\n",
              "  'CmentBd': 7,\n",
              "  'HdBoard': 4,\n",
              "  'ImStucc': 9,\n",
              "  'MetalSd': 1,\n",
              "  'Other': 15,\n",
              "  'Plywood': 2,\n",
              "  'Stone': 13,\n",
              "  'Stucco': 8,\n",
              "  'VinylSd': 0,\n",
              "  'Wd Sdng': 3,\n",
              "  'Wd Shng': 6},\n",
              " 'Neighborhood': {'Blmngtn': 18,\n",
              "  'Blueste': 24,\n",
              "  'BrDale': 23,\n",
              "  'BrkSide': 8,\n",
              "  'ClearCr': 19,\n",
              "  'CollgCr': 0,\n",
              "  'Crawfor': 14,\n",
              "  'Edwards': 16,\n",
              "  'Gilbert': 10,\n",
              "  'IDOTRR': 6,\n",
              "  'MeadowV': 11,\n",
              "  'Mitchel': 17,\n",
              "  'NAmes': 5,\n",
              "  'NPkVill': 21,\n",
              "  'NWAmes': 3,\n",
              "  'NoRidge': 12,\n",
              "  'NridgHt': 7,\n",
              "  'OldTown': 4,\n",
              "  'SWISU': 22,\n",
              "  'Sawyer': 9,\n",
              "  'SawyerW': 2,\n",
              "  'Somerst': 1,\n",
              "  'StoneBr': 15,\n",
              "  'Timber': 13,\n",
              "  'Veenker': 20}}"
            ]
          },
          "metadata": {
            "tags": []
          },
          "execution_count": 37
        }
      ]
    },
    {
      "cell_type": "code",
      "metadata": {
        "id": "x6Xw-99Js5-E",
        "colab_type": "code",
        "colab": {
          "base_uri": "https://localhost:8080/",
          "height": 34
        },
        "outputId": "6e2ed6ed-9b8f-4d85-dacd-aad4df388e3f"
      },
      "source": [
        "ordinal_enc.variables"
      ],
      "execution_count": 38,
      "outputs": [
        {
          "output_type": "execute_result",
          "data": {
            "text/plain": [
              "['Neighborhood', 'Exterior1st', 'Exterior2nd']"
            ]
          },
          "metadata": {
            "tags": []
          },
          "execution_count": 38
        }
      ]
    },
    {
      "cell_type": "code",
      "metadata": {
        "id": "Yi9JFWLutC81",
        "colab_type": "code",
        "colab": {
          "base_uri": "https://localhost:8080/",
          "height": 258
        },
        "outputId": "7e275202-85cc-46e7-809f-cbe7565b7137"
      },
      "source": [
        "X_train1 = ordinal_enc.transform(X_train1)\n",
        "X_test1 = ordinal_enc.transform(X_test1)\n",
        "X_train1.head()"
      ],
      "execution_count": 39,
      "outputs": [
        {
          "output_type": "stream",
          "text": [
            "/usr/local/lib/python3.6/dist-packages/feature_engine/base_transformers.py:211: UserWarning: NaN values were introduced by the encoder due to labels in variable Exterior1st not present in the training set. Try using the RareLabelCategoricalEncoder.\n",
            "  warnings.warn(\"NaN values were introduced by the encoder due to labels in variable {} not present in the training set. Try using the RareLabelCategoricalEncoder.\".format(feature) )\n"
          ],
          "name": "stderr"
        },
        {
          "output_type": "execute_result",
          "data": {
            "text/html": [
              "<div>\n",
              "<style scoped>\n",
              "    .dataframe tbody tr th:only-of-type {\n",
              "        vertical-align: middle;\n",
              "    }\n",
              "\n",
              "    .dataframe tbody tr th {\n",
              "        vertical-align: top;\n",
              "    }\n",
              "\n",
              "    .dataframe thead th {\n",
              "        text-align: right;\n",
              "    }\n",
              "</style>\n",
              "<table border=\"1\" class=\"dataframe\">\n",
              "  <thead>\n",
              "    <tr style=\"text-align: right;\">\n",
              "      <th></th>\n",
              "      <th>Neighborhood</th>\n",
              "      <th>Exterior1st</th>\n",
              "      <th>Exterior2nd</th>\n",
              "    </tr>\n",
              "  </thead>\n",
              "  <tbody>\n",
              "    <tr>\n",
              "      <th>355</th>\n",
              "      <td>0</td>\n",
              "      <td>0</td>\n",
              "      <td>0</td>\n",
              "    </tr>\n",
              "    <tr>\n",
              "      <th>115</th>\n",
              "      <td>1</td>\n",
              "      <td>1</td>\n",
              "      <td>1</td>\n",
              "    </tr>\n",
              "    <tr>\n",
              "      <th>862</th>\n",
              "      <td>2</td>\n",
              "      <td>2</td>\n",
              "      <td>2</td>\n",
              "    </tr>\n",
              "    <tr>\n",
              "      <th>1409</th>\n",
              "      <td>3</td>\n",
              "      <td>3</td>\n",
              "      <td>2</td>\n",
              "    </tr>\n",
              "    <tr>\n",
              "      <th>999</th>\n",
              "      <td>0</td>\n",
              "      <td>0</td>\n",
              "      <td>0</td>\n",
              "    </tr>\n",
              "  </tbody>\n",
              "</table>\n",
              "</div>"
            ],
            "text/plain": [
              "      Neighborhood  Exterior1st  Exterior2nd\n",
              "355              0            0            0\n",
              "115              1            1            1\n",
              "862              2            2            2\n",
              "1409             3            3            2\n",
              "999              0            0            0"
            ]
          },
          "metadata": {
            "tags": []
          },
          "execution_count": 39
        }
      ]
    },
    {
      "cell_type": "markdown",
      "metadata": {
        "id": "e2i3850HuqYQ",
        "colab_type": "text"
      },
      "source": [
        "# **Count or Frequency Encoding**"
      ]
    },
    {
      "cell_type": "code",
      "metadata": {
        "id": "k_Gt4DY2u042",
        "colab_type": "code",
        "colab": {}
      },
      "source": [
        "# Count or frequency encoding \n",
        "X_train2, X_test2, y_train2, y_test2 = train_test_split(house[['Neighborhood', 'Exterior1st', 'Exterior2nd']], house['SalePrice'], test_size=0.3, random_state = 33)\n"
      ],
      "execution_count": 0,
      "outputs": []
    },
    {
      "cell_type": "code",
      "metadata": {
        "id": "va9uCku7vcFX",
        "colab_type": "code",
        "colab": {
          "base_uri": "https://localhost:8080/",
          "height": 442
        },
        "outputId": "e25a1a63-1bda-40d1-b225-bf1f69b219f0"
      },
      "source": [
        "# Count of the attributes\n",
        "count_map = X_train2['Neighborhood'].value_counts().to_dict()\n",
        "count_map"
      ],
      "execution_count": 41,
      "outputs": [
        {
          "output_type": "execute_result",
          "data": {
            "text/plain": [
              "{'Blmngtn': 11,\n",
              " 'Blueste': 1,\n",
              " 'BrDale': 10,\n",
              " 'BrkSide': 41,\n",
              " 'ClearCr': 17,\n",
              " 'CollgCr': 103,\n",
              " 'Crawfor': 37,\n",
              " 'Edwards': 76,\n",
              " 'Gilbert': 61,\n",
              " 'IDOTRR': 23,\n",
              " 'MeadowV': 11,\n",
              " 'Mitchel': 30,\n",
              " 'NAmes': 157,\n",
              " 'NPkVill': 5,\n",
              " 'NWAmes': 49,\n",
              " 'NoRidge': 27,\n",
              " 'NridgHt': 50,\n",
              " 'OldTown': 78,\n",
              " 'SWISU': 19,\n",
              " 'Sawyer': 55,\n",
              " 'SawyerW': 40,\n",
              " 'Somerst': 66,\n",
              " 'StoneBr': 19,\n",
              " 'Timber': 26,\n",
              " 'Veenker': 10}"
            ]
          },
          "metadata": {
            "tags": []
          },
          "execution_count": 41
        }
      ]
    },
    {
      "cell_type": "code",
      "metadata": {
        "id": "i1qUaNMMvt_o",
        "colab_type": "code",
        "colab": {
          "base_uri": "https://localhost:8080/",
          "height": 119
        },
        "outputId": "a072ca6c-7263-4a67-9193-2b2352e08b96"
      },
      "source": [
        "# Replace the lables with the counts\n",
        "X_train2['Neighborhood'] = X_train2['Neighborhood'].map(count_map)\n",
        "X_test2['Neighborhood'] = X_test2['Neighborhood'].map(count_map)\n",
        "X_train2['Neighborhood'].head()"
      ],
      "execution_count": 42,
      "outputs": [
        {
          "output_type": "execute_result",
          "data": {
            "text/plain": [
              "355     103\n",
              "115      66\n",
              "862      40\n",
              "1409     49\n",
              "999     103\n",
              "Name: Neighborhood, dtype: int64"
            ]
          },
          "metadata": {
            "tags": []
          },
          "execution_count": 42
        }
      ]
    },
    {
      "cell_type": "markdown",
      "metadata": {
        "id": "CQHXyflqxNaQ",
        "colab_type": "text"
      },
      "source": [
        "Count/Frequency Encoding with Feature Engine"
      ]
    },
    {
      "cell_type": "code",
      "metadata": {
        "id": "2eC95grNxSXS",
        "colab_type": "code",
        "colab": {}
      },
      "source": [
        "from feature_engine.categorical_encoders import CountFrequencyCategoricalEncoder\n",
        "X_train3, X_test3, y_train3, y_test3 = train_test_split(house[['Neighborhood', 'Exterior1st', 'Exterior2nd']], house['SalePrice'], test_size=0.3, random_state = 33)\n"
      ],
      "execution_count": 0,
      "outputs": []
    },
    {
      "cell_type": "code",
      "metadata": {
        "id": "ENWT-ua3ylw3",
        "colab_type": "code",
        "colab": {
          "base_uri": "https://localhost:8080/",
          "height": 68
        },
        "outputId": "81fad405-3507-4538-d6ce-fd2ebb8dd962"
      },
      "source": [
        "encode_cf = CountFrequencyCategoricalEncoder(\n",
        "    encoding_method = 'count', # to do frequency => enoding_method = 'frequency'\n",
        "    variables = ['Neighborhood', 'Exterior1st', 'Exterior2nd'])\n",
        "\n",
        "encode_cf.fit(X_train3)"
      ],
      "execution_count": 49,
      "outputs": [
        {
          "output_type": "execute_result",
          "data": {
            "text/plain": [
              "CountFrequencyCategoricalEncoder(encoding_method='count',\n",
              "                                 variables=['Neighborhood', 'Exterior1st',\n",
              "                                            'Exterior2nd'])"
            ]
          },
          "metadata": {
            "tags": []
          },
          "execution_count": 49
        }
      ]
    },
    {
      "cell_type": "code",
      "metadata": {
        "id": "OpI_c14ly-Ts",
        "colab_type": "code",
        "colab": {
          "base_uri": "https://localhost:8080/",
          "height": 258
        },
        "outputId": "57facf87-ad0d-4a77-d114-e68a86579e7a"
      },
      "source": [
        "X_train3 = encode_cf.transform(X_train3)\n",
        "X_test3 = encode_cf.transform(X_test3)\n",
        "X_train3.head()"
      ],
      "execution_count": 50,
      "outputs": [
        {
          "output_type": "stream",
          "text": [
            "/usr/local/lib/python3.6/dist-packages/feature_engine/base_transformers.py:211: UserWarning: NaN values were introduced by the encoder due to labels in variable Exterior1st not present in the training set. Try using the RareLabelCategoricalEncoder.\n",
            "  warnings.warn(\"NaN values were introduced by the encoder due to labels in variable {} not present in the training set. Try using the RareLabelCategoricalEncoder.\".format(feature) )\n"
          ],
          "name": "stderr"
        },
        {
          "output_type": "execute_result",
          "data": {
            "text/html": [
              "<div>\n",
              "<style scoped>\n",
              "    .dataframe tbody tr th:only-of-type {\n",
              "        vertical-align: middle;\n",
              "    }\n",
              "\n",
              "    .dataframe tbody tr th {\n",
              "        vertical-align: top;\n",
              "    }\n",
              "\n",
              "    .dataframe thead th {\n",
              "        text-align: right;\n",
              "    }\n",
              "</style>\n",
              "<table border=\"1\" class=\"dataframe\">\n",
              "  <thead>\n",
              "    <tr style=\"text-align: right;\">\n",
              "      <th></th>\n",
              "      <th>Neighborhood</th>\n",
              "      <th>Exterior1st</th>\n",
              "      <th>Exterior2nd</th>\n",
              "    </tr>\n",
              "  </thead>\n",
              "  <tbody>\n",
              "    <tr>\n",
              "      <th>355</th>\n",
              "      <td>103</td>\n",
              "      <td>356</td>\n",
              "      <td>348</td>\n",
              "    </tr>\n",
              "    <tr>\n",
              "      <th>115</th>\n",
              "      <td>66</td>\n",
              "      <td>158</td>\n",
              "      <td>152</td>\n",
              "    </tr>\n",
              "    <tr>\n",
              "      <th>862</th>\n",
              "      <td>40</td>\n",
              "      <td>153</td>\n",
              "      <td>103</td>\n",
              "    </tr>\n",
              "    <tr>\n",
              "      <th>1409</th>\n",
              "      <td>49</td>\n",
              "      <td>78</td>\n",
              "      <td>103</td>\n",
              "    </tr>\n",
              "    <tr>\n",
              "      <th>999</th>\n",
              "      <td>103</td>\n",
              "      <td>356</td>\n",
              "      <td>348</td>\n",
              "    </tr>\n",
              "  </tbody>\n",
              "</table>\n",
              "</div>"
            ],
            "text/plain": [
              "      Neighborhood  Exterior1st  Exterior2nd\n",
              "355            103          356          348\n",
              "115             66          158          152\n",
              "862             40          153          103\n",
              "1409            49           78          103\n",
              "999            103          356          348"
            ]
          },
          "metadata": {
            "tags": []
          },
          "execution_count": 50
        }
      ]
    }
  ]
}